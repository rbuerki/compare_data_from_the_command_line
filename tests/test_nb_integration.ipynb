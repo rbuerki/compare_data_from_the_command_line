{
 "cells": [
  {
   "cell_type": "markdown",
   "metadata": {},
   "source": [
    "**Command for CLI testing:**\n",
    "```python\n",
    "python compare_df \"dev/birthday_loeb/mike_normal.csv\" \"dev/birthday_loeb/iloy_normal.csv\" -l_1 \"engine\"=\"python\" -l_1 \"sep\"=\";\" -l_2 \"encoding\"=\"UTF-8\" -l_2 \"sep\"=\";\" -i \"KundenID\"\n",
    "```"
   ]
  },
  {
   "cell_type": "code",
   "execution_count": 1,
   "metadata": {
    "ExecuteTime": {
     "end_time": "2020-09-21T12:07:09.354365Z",
     "start_time": "2020-09-21T12:07:09.337354Z"
    }
   },
   "outputs": [
    {
     "data": {
      "text/plain": [
       "'C:\\\\Users\\\\r2d4\\\\miniconda3\\\\envs\\\\py3\\\\python.exe'"
      ]
     },
     "execution_count": 1,
     "metadata": {},
     "output_type": "execute_result"
    }
   ],
   "source": [
    "import sys\n",
    "sys.executable"
   ]
  },
  {
   "cell_type": "code",
   "execution_count": 2,
   "metadata": {
    "ExecuteTime": {
     "end_time": "2020-09-21T12:07:09.961192Z",
     "start_time": "2020-09-21T12:07:09.357869Z"
    }
   },
   "outputs": [],
   "source": [
    "from compare_df.__main__ import main"
   ]
  },
  {
   "cell_type": "markdown",
   "metadata": {},
   "source": [
    "## Real-word test-case with different encoding"
   ]
  },
  {
   "cell_type": "code",
   "execution_count": 3,
   "metadata": {
    "ExecuteTime": {
     "end_time": "2020-09-21T12:07:09.971198Z",
     "start_time": "2020-09-21T12:07:09.965197Z"
    }
   },
   "outputs": [],
   "source": [
    "path_1 = \"../dev/birthday_loeb/iloy_normal.csv\"\n",
    "path_2 = \"../dev/birthday_loeb/mike_normal.csv\"\n",
    "params_1 = {'sep': ';', 'encoding': 'UTF-8'}\n",
    "params_2 = {\"sep\": \";\", \"engine\": \"python\"}"
   ]
  },
  {
   "cell_type": "code",
   "execution_count": 4,
   "metadata": {
    "ExecuteTime": {
     "end_time": "2020-09-21T12:07:16.955354Z",
     "start_time": "2020-09-21T12:07:09.974719Z"
    },
    "scrolled": false
   },
   "outputs": [
    {
     "name": "stdout",
     "output_type": "stream",
     "text": [
      "- DF loaded, with original shape of (619, 20)\n",
      "- DF loaded, with original shape of (618, 20)\n",
      "\n",
      "The dataframes have the same number of columns, but their names differ. If you want to drop the non-overlapping columns for the comparison, please press 'y'. If you think the data structure of the dataframesis identical and want to enforce the column names to be identical for a 'full' comparison, please press 'n'.y\n",
      "\n",
      "Found differences in the columns of the two dataframes.\n",
      "- DF 1 has 2 value(s) in columns that could not be found in the other DF and will be removed:\n",
      "  - Jamo_Faktura_Mahnstufe\n",
      "  - Card Type\n",
      "- DF 2 has 2 value(s) in columns that could not be found in the other DF and will be removed:\n",
      "  - CardType\n",
      "  - Jamofak_Mahnstufe\n",
      "\n",
      "Found differences in the index of the two dataframes.\n",
      "- DF 1 has 2 value(s) in index that could not be found in the other DF and will be removed:\n",
      "  - 1272748\n",
      "  - 1233319\n",
      "- DF 2 has 1 value(s) in index that could not be found in the other DF and will be removed:\n",
      "  - 1231905\n",
      "\n",
      "Dataframes successfully compared with shape (617, 17). They are NOT indentical. \n",
      "# of differences per column:\n",
      "\n",
      "Firstname          0\n",
      "Lastname           0\n",
      "TitleName          0\n",
      "Salutation         0\n",
      "AddressLine1       0\n",
      "Street             1\n",
      "PostBoxNumber      0\n",
      "PostalCode         0\n",
      "City               0\n",
      "CountryAK          0\n",
      "DateOfBirth      617\n",
      "Email              0\n",
      "Language           0\n",
      "Alter              0\n",
      "RFM_Segment        0\n",
      "M_Wert           303\n",
      "Mahnstufe          5\n",
      "dtype: int64\n",
      "\n",
      "Do you wish to save an XLSX file indicating all the differing values in tabular format? It will be saved into the same folder as from where DF_1 has been loaded.y\n",
      "\n",
      "Output saved to: \n",
      "C:\\Users\\r2d4\\OneDrive\\code\\projects\\20-05_compare_dfs\\dev\\birthday_loeb\\compare_df_diff_output_2020-09-21-14-07-15.xlsx\n"
     ]
    }
   ],
   "source": [
    "# Test with removing non-matching columns\n",
    "main(path_1, path_2, params_1, params_2, \"KundenID\")"
   ]
  }
 ],
 "metadata": {
  "hide_input": false,
  "kernelspec": {
   "display_name": "Python 3",
   "language": "python",
   "name": "python3"
  },
  "language_info": {
   "codemirror_mode": {
    "name": "ipython",
    "version": 3
   },
   "file_extension": ".py",
   "mimetype": "text/x-python",
   "name": "python",
   "nbconvert_exporter": "python",
   "pygments_lexer": "ipython3",
   "version": "3.8.3"
  }
 },
 "nbformat": 4,
 "nbformat_minor": 4
}
