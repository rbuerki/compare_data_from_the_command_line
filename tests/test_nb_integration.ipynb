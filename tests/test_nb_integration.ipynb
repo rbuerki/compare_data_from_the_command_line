{
 "cells": [
  {
   "source": [
    "For CLI testing: \n",
    "```python\n",
    "python compare_df \"dev/birthday_loeb/mike_normal.csv\" \"dev/birthday_loeb/iloy_normal.csv\" -l_1 \"engine\"=\"python\" -l_1 \"sep\"=\";\" -l_2 \"encoding\"=\"UTF-8\" -l_2 \"sep\"=\";\" -i \"KundenID\"\n",
    "```"
   ],
   "cell_type": "markdown",
   "metadata": {}
  },
  {
   "cell_type": "code",
   "execution_count": 1,
   "metadata": {
    "ExecuteTime": {
     "end_time": "2020-09-21T08:29:36.153854Z",
     "start_time": "2020-09-21T08:29:36.146857Z"
    }
   },
   "outputs": [],
   "source": [
    "import os\n",
    "import sys\n",
    "sys.path.append(os.path.abspath(\"../compare_df\"))  # module imports\n",
    "sys.path.append(os.path.abspath(\"../compare_df/\"))  # intra-module imports"
   ]
  },
  {
   "cell_type": "code",
   "execution_count": 2,
   "metadata": {
    "ExecuteTime": {
     "end_time": "2020-09-21T08:29:36.182907Z",
     "start_time": "2020-09-21T08:29:36.156388Z"
    }
   },
   "outputs": [
    {
     "data": {
      "text/plain": [
       "'C:\\\\Users\\\\r2d4\\\\miniconda3\\\\envs\\\\py3\\\\python.exe'"
      ]
     },
     "execution_count": 2,
     "metadata": {},
     "output_type": "execute_result"
    }
   ],
   "source": [
    "sys.executable"
   ]
  },
  {
   "cell_type": "code",
   "execution_count": 3,
   "metadata": {
    "ExecuteTime": {
     "end_time": "2020-09-21T08:29:36.668486Z",
     "start_time": "2020-09-21T08:29:36.186908Z"
    }
   },
   "outputs": [],
   "source": [
    "from typing import Dict, Optional\n",
    "import foos\n",
    "\n",
    "def main(\n",
    "    path_1: str,\n",
    "    path_2: str,\n",
    "    load_params_1: Optional[Dict[str, str]],\n",
    "    load_params_2: Optional[Dict[str, str]],\n",
    "    index_col: Optional[str],\n",
    "):\n",
    "    df_1, df_2 = foos.load_csv(\n",
    "        path_1, path_2, load_params_1, load_params_2, index_col\n",
    "    )\n",
    "    df_1, df_2 = foos.impute_missing_values(df_1, df_2)\n",
    "\n",
    "    if foos.check_if_dataframes_are_equal(df_1, df_2):\n",
    "        print(\"Successfully compared, DFs are identical.\")\n",
    "    else:\n",
    "        if foos.check_for_same_width:\n",
    "            if not foos.check_for_identical_column_names(df_1, df_2):\n",
    "                user_input = foos.get_user_input(\"columns\")\n",
    "                if user_input == \"y\":\n",
    "                    df_1, df_2 = foos.handle_different_values(\n",
    "                        \"columns\", df_1, df_2\n",
    "                    )\n",
    "                else:\n",
    "                    df_1, df_2 = foos.enforce_column_identity(df_1, df_2)\n",
    "        else:\n",
    "            df_1, df_2 = foos.handle_different_values(\"columns\", df_1, df_2)\n",
    "\n",
    "        df_1, df_2 = foos.sort_columns(df_1, df_2)\n",
    "\n",
    "        if not foos.check_for_identical_index_values(df_1, df_2):\n",
    "            df_1, df_2 = foos.handle_different_values(\"index\", df_1, df_2)\n",
    "\n",
    "        if not foos.check_for_identical_dtypes(df_1, df_2):\n",
    "            df_1, df_2 = foos.enforce_dtype_identity(df_1, df_2)\n",
    "\n",
    "        df_diff = foos.compare(df_1, df_2)\n",
    "        \n",
    "\n",
    "\n",
    "        if df_diff is not None:\n",
    "            user_input = foos.get_user_input(\"output\")\n",
    "            if user_input == \"y\":\n",
    "                foos.save_differences_to_xlsx(path_1, df_diff)\n",
    "        \n",
    "        # Added for dev purposes only\n",
    "        return df_1, df_2"
   ]
  },
  {
   "cell_type": "markdown",
   "metadata": {},
   "source": [
    "## Real-word test-case with different encoding"
   ]
  },
  {
   "cell_type": "code",
   "execution_count": 4,
   "metadata": {
    "ExecuteTime": {
     "end_time": "2020-09-21T08:29:36.677491Z",
     "start_time": "2020-09-21T08:29:36.671489Z"
    }
   },
   "outputs": [],
   "source": [
    "path_1 = \"birthday_loeb/iloy_normal.csv\"\n",
    "path_2 = \"birthday_loeb/mike_normal.csv\"\n",
    "params_1 = {'sep': ';', 'encoding': 'UTF-8'}\n",
    "params_2 = {\"sep\": \";\", \"engine\": \"python\"}"
   ]
  },
  {
   "cell_type": "code",
   "execution_count": 5,
   "metadata": {
    "ExecuteTime": {
     "end_time": "2020-09-21T08:29:44.617951Z",
     "start_time": "2020-09-21T08:29:36.682487Z"
    },
    "scrolled": false
   },
   "outputs": [
    {
     "name": "stdout",
     "output_type": "stream",
     "text": [
      "- DF loaded, with original shape of (619, 20)\n",
      "- DF loaded, with original shape of (618, 20)\n",
      "\n",
      "The dataframes have the same number of columns, but their names differ. If you want to drop the non-overlapping columns for the comparison, please press 'y'. If you think the data structure of the dataframesis identical and want to enforce the column names to be identical for a 'full' comparison, please press 'n'.y\n",
      "\n",
      "Found differences in the columns of the two dataframes.\n",
      "- DF 1 has 2 value(s) in columns that could not be found in the other DF and will be removed:\n",
      "  - Card Type\n",
      "  - Jamo_Faktura_Mahnstufe\n",
      "- DF 2 has 2 value(s) in columns that could not be found in the other DF and will be removed:\n",
      "  - Jamofak_Mahnstufe\n",
      "  - CardType\n",
      "\n",
      "Found differences in the index of the two dataframes.\n",
      "- DF 1 has 2 value(s) in index that could not be found in the other DF and will be removed:\n",
      "  - 1272748\n",
      "  - 1233319\n",
      "- DF 2 has 1 value(s) in index that could not be found in the other DF and will be removed:\n",
      "  - 1231905\n",
      "\n",
      "Dataframes successfully compared with shape (617, 17). They are NOT indentical. \n",
      "# of differences per column:\n",
      "\n",
      "Firstname          0\n",
      "Lastname           0\n",
      "TitleName          0\n",
      "Salutation         0\n",
      "AddressLine1       0\n",
      "Street             1\n",
      "PostBoxNumber      0\n",
      "PostalCode         0\n",
      "City               0\n",
      "CountryAK          0\n",
      "DateOfBirth      617\n",
      "Email              0\n",
      "Language           0\n",
      "Alter              0\n",
      "RFM_Segment        0\n",
      "M_Wert           303\n",
      "Mahnstufe          5\n",
      "dtype: int64\n",
      "\n",
      "Do you wish to save an XLSX file indicating all the differing values in tabular format? It will be saved into the same folder as from where DF_1 has been loaded.n\n"
     ]
    }
   ],
   "source": [
    "# Test with removing non-matching columns\n",
    "df_a, df_b = main(path_1, path_2, params_1, params_2, \"KundenID\")"
   ]
  },
  {
   "cell_type": "code",
   "execution_count": 6,
   "metadata": {
    "ExecuteTime": {
     "end_time": "2020-09-21T08:29:44.641950Z",
     "start_time": "2020-09-21T08:29:44.620951Z"
    }
   },
   "outputs": [],
   "source": [
    "df_diff = df_a.ne(df_b)"
   ]
  },
  {
   "cell_type": "code",
   "execution_count": 8,
   "metadata": {
    "ExecuteTime": {
     "end_time": "2020-09-21T08:29:44.673006Z",
     "start_time": "2020-09-21T08:29:44.663000Z"
    }
   },
   "outputs": [
    {
     "data": {
      "text/plain": [
       "Int64Index([1300092], dtype='int64', name='KundenID')"
      ]
     },
     "execution_count": 8,
     "metadata": {},
     "output_type": "execute_result"
    }
   ],
   "source": [
    "df_diff.index[df_diff[\"Street\"] > 0]"
   ]
  }
 ],
 "metadata": {
  "hide_input": false,
  "kernelspec": {
   "display_name": "Python 3",
   "language": "python",
   "name": "python3"
  },
  "language_info": {
   "codemirror_mode": {
    "name": "ipython",
    "version": 3
   },
   "file_extension": ".py",
   "mimetype": "text/x-python",
   "name": "python",
   "nbconvert_exporter": "python",
   "pygments_lexer": "ipython3",
   "version": "3.8.3"
  }
 },
 "nbformat": 4,
 "nbformat_minor": 4
}