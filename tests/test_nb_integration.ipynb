{
 "cells": [
  {
   "cell_type": "markdown",
   "metadata": {},
   "source": [
    "**Command for CLI testing:**\n",
    "```python\n",
    "compare_df \"dev/birthday_loeb/mike_normal.csv\" \"dev/birthday_loeb/iloy_normal.csv\" -l_1 \"engine\"=\"python\" -l_1 \"sep\"=\";\" -l_1 \"index_col\"=\"KundenID\" -l_2 \"encoding\"=\"UTF-8\" -l_2 \"sep\"=\";\" -l_2 \"index_col\"=\"KundenID\"\n",
    "```"
   ]
  },
  {
   "cell_type": "code",
   "execution_count": 1,
   "metadata": {
    "ExecuteTime": {
     "end_time": "2021-05-02T20:13:15.579686Z",
     "start_time": "2021-05-02T20:13:15.554669Z"
    }
   },
   "outputs": [
    {
     "data": {
      "text/plain": [
       "'C:\\\\Users\\\\r2d4\\\\miniconda3\\\\envs\\\\py3\\\\python.exe'"
      ]
     },
     "execution_count": 1,
     "metadata": {},
     "output_type": "execute_result"
    }
   ],
   "source": [
    "import sys\n",
    "sys.executable"
   ]
  },
  {
   "cell_type": "code",
   "execution_count": 2,
   "metadata": {
    "ExecuteTime": {
     "end_time": "2021-05-02T20:13:19.051666Z",
     "start_time": "2021-05-02T20:13:18.620671Z"
    }
   },
   "outputs": [],
   "source": [
    "import compare_df"
   ]
  },
  {
   "cell_type": "markdown",
   "metadata": {},
   "source": [
    "## Real-word test-cases \n",
    "\n",
    "### CSV with different encoding"
   ]
  },
  {
   "cell_type": "code",
   "execution_count": 3,
   "metadata": {
    "ExecuteTime": {
     "end_time": "2021-05-02T20:13:40.509599Z",
     "start_time": "2021-05-02T20:13:40.505218Z"
    }
   },
   "outputs": [],
   "source": [
    "path_1 = \"../dev/birthday_loeb/iloy_normal.csv\"\n",
    "path_2 = \"../dev/birthday_loeb/mike_normal.csv\"\n",
    "params_1 = {'sep': ';', 'encoding': 'UTF-8', \"index_col\": \"KundenID\"}\n",
    "params_2 = {\"sep\": \";\", \"engine\": \"python\", \"index_col\": \"KundenID\"}"
   ]
  },
  {
   "cell_type": "code",
   "execution_count": 4,
   "metadata": {
    "ExecuteTime": {
     "end_time": "2021-05-02T20:13:50.043504Z",
     "start_time": "2021-05-02T20:13:44.897290Z"
    },
    "scrolled": false,
    "tags": []
   },
   "outputs": [
    {
     "name": "stdout",
     "output_type": "stream",
     "text": [
      "- DF loaded, with original shape of (619, 19)\n",
      "- DF loaded, with original shape of (618, 19)\n",
      "\n",
      "The dataframes have the same number of columns, but their names differ. \n",
      "If you want to drop the non-overlapping columns for the comparison, please press 'y'. \n",
      "If you think the data structure of the dataframes is identical and want to enforce the column names to be identical for a 'full' comparison, please press 'n'.\n",
      "y\n",
      "\n",
      "Found differences in the columns of the two dataframes.\n",
      "- DF 1 has 2 value(s) in the columns that could not be found in the other DF, so they will be removed:\n",
      "  - Card Type\n",
      "  - Jamo_Faktura_Mahnstufe\n",
      "- DF 2 has 2 value(s) in the columns that could not be found in the other DF, so they will be removed:\n",
      "  - CardType\n",
      "  - Jamofak_Mahnstufe\n",
      "\n",
      "Found differences in the index of the two dataframes.\n",
      "- DF 1 has 2 value(s) in the index that could not be found in the other DF, so they will be removed:\n",
      "  - 1272748\n",
      "  - 1233319\n",
      "- DF 2 has 1 value(s) in the index that could not be found in the other DF, so they will be removed:\n",
      "  - 1231905\n",
      "\n",
      "Dataframes successfully compared with shape (617, 17). They are NOT indentical. \n",
      "# of differences per column:\n",
      "\n",
      "Firstname          0\n",
      "Lastname           0\n",
      "TitleName          0\n",
      "Salutation         0\n",
      "AddressLine1       0\n",
      "Street             1\n",
      "PostBoxNumber      0\n",
      "PostalCode         0\n",
      "City               0\n",
      "CountryAK          0\n",
      "DateOfBirth      617\n",
      "Email              0\n",
      "Language           0\n",
      "Alter              0\n",
      "RFM_Segment        0\n",
      "M_Wert           303\n",
      "Mahnstufe          5\n",
      "dtype: int64\n",
      "\n",
      "Do you wish to save an XLSX file indicating all the differing values in tabular format? It will be saved into the current working directory. Please press 'y' or 'n'.\n",
      "n\n"
     ]
    }
   ],
   "source": [
    "# Test with removing non-matching columns\n",
    "df_diff, df_1, df_2 = compare_df.main(path_1, path_2, params_1, params_2)"
   ]
  },
  {
   "cell_type": "code",
   "execution_count": 6,
   "metadata": {
    "ExecuteTime": {
     "end_time": "2020-09-22T13:40:22.831965Z",
     "start_time": "2020-09-22T13:40:22.821975Z"
    }
   },
   "outputs": [
    {
     "data": {
      "text/plain": [
       "(617, 17)"
      ]
     },
     "metadata": {},
     "output_type": "display_data"
    },
    {
     "data": {
      "text/plain": [
       "(617, 17)"
      ]
     },
     "metadata": {},
     "output_type": "display_data"
    },
    {
     "data": {
      "text/plain": [
       "(617, 17)"
      ]
     },
     "metadata": {},
     "output_type": "display_data"
    }
   ],
   "source": [
    "for df in [df_diff, df_1, df_2]:\n",
    "    display(df.shape)"
   ]
  },
  {
   "cell_type": "markdown",
   "metadata": {},
   "source": [
    "### XLSX"
   ]
  },
  {
   "cell_type": "code",
   "execution_count": 5,
   "metadata": {
    "ExecuteTime": {
     "end_time": "2021-05-02T20:15:19.977275Z",
     "start_time": "2021-05-02T20:15:19.972271Z"
    }
   },
   "outputs": [],
   "source": [
    "path_1 = \"../dev/druckfiles/DB_DE_GOLD_raph.xlsx\"\n",
    "path_2 = \"../dev/druckfiles/DB_DE_GOLD_inm03.xlsx\""
   ]
  },
  {
   "cell_type": "code",
   "execution_count": 6,
   "metadata": {
    "ExecuteTime": {
     "end_time": "2021-05-02T20:15:37.058001Z",
     "start_time": "2021-05-02T20:15:31.865215Z"
    }
   },
   "outputs": [
    {
     "name": "stdout",
     "output_type": "stream",
     "text": [
      "- DF loaded, with original shape of (169, 42)\n",
      "- DF loaded, with original shape of (169, 42)\n",
      "\n",
      "Dataframes successfully compared with shape (169, 42). They are NOT indentical. \n",
      "# of differences per column:\n",
      "\n",
      "memberid             0\n",
      "Segment              0\n",
      "CampReqID            0\n",
      "RequestType          0\n",
      "MemberName           0\n",
      "SiteName             0\n",
      "Forename             0\n",
      "Surname              0\n",
      "SalDescription       0\n",
      "AddressLine1         0\n",
      "Street               0\n",
      "Country              0\n",
      "PostBox              0\n",
      "PostBoxNr            0\n",
      "Email                2\n",
      "DeviceID             0\n",
      "LangDescription      0\n",
      "Letter_Salutation    0\n",
      "ZipCity              0\n",
      "DataMatrix           0\n",
      "MemberStatus         0\n",
      "HomeSite             0\n",
      "Voucher1Name         0\n",
      "Voucher1Start        0\n",
      "Voucher1End          0\n",
      "Voucher1DeviceID     0\n",
      "Voucher2Name         0\n",
      "Voucher2Start        0\n",
      "Voucher2End          0\n",
      "Voucher2DeviceID     0\n",
      "Voucher3Name         0\n",
      "Voucher3Start        0\n",
      "Voucher3End          0\n",
      "Voucher3DeviceID     0\n",
      "Voucher4Name         0\n",
      "Voucher4Start        0\n",
      "Voucher4End          0\n",
      "Voucher4DeviceID     0\n",
      "Voucher5Name         0\n",
      "Voucher5Start        0\n",
      "Voucher5End          0\n",
      "Voucher5DeviceID     0\n",
      "dtype: int64\n",
      "\n",
      "Do you wish to save an XLSX file indicating all the differing values in tabular format? It will be saved into the current working directory. Please press 'y' or 'n'.\n",
      "n\n"
     ]
    }
   ],
   "source": [
    "df_diff, df_1, df_2 = compare_df.main(path_1, path_2)"
   ]
  },
  {
   "cell_type": "markdown",
   "metadata": {},
   "source": [
    "---"
   ]
  }
 ],
 "metadata": {
  "hide_input": false,
  "kernelspec": {
   "display_name": "Python 3",
   "language": "python",
   "name": "python3"
  },
  "language_info": {
   "codemirror_mode": {
    "name": "ipython",
    "version": 3
   },
   "file_extension": ".py",
   "mimetype": "text/x-python",
   "name": "python",
   "nbconvert_exporter": "python",
   "pygments_lexer": "ipython3",
   "version": "3.8.3"
  },
  "toc": {
   "base_numbering": 1,
   "nav_menu": {},
   "number_sections": true,
   "sideBar": false,
   "skip_h1_title": true,
   "title_cell": "Table of Contents",
   "title_sidebar": "Contents",
   "toc_cell": false,
   "toc_position": {},
   "toc_section_display": true,
   "toc_window_display": false
  }
 },
 "nbformat": 4,
 "nbformat_minor": 4
}
