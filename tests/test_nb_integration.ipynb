{
 "cells": [
  {
   "cell_type": "markdown",
   "metadata": {},
   "source": [
    "**Command for CLI testing:**\n",
    "```python\n",
    "python compare_df \"dev/birthday_loeb/mike_normal.csv\" \"dev/birthday_loeb/iloy_normal.csv\" -l_1 \"engine\"=\"python\" -l_1 \"sep\"=\";\" -l_2 \"encoding\"=\"UTF-8\" -l_2 \"sep\"=\";\" -i \"KundenID\"\n",
    "```"
   ]
  },
  {
   "cell_type": "code",
   "execution_count": 1,
   "metadata": {
    "ExecuteTime": {
     "end_time": "2020-09-22T14:15:53.228860Z",
     "start_time": "2020-09-22T14:15:53.214859Z"
    }
   },
   "outputs": [
    {
     "output_type": "execute_result",
     "data": {
      "text/plain": "&#39;C:\\\\Users\\\\r2d4\\\\miniconda3\\\\envs\\\\py3\\\\python.exe&#39;"
     },
     "metadata": {},
     "execution_count": 1
    }
   ],
   "source": [
    "import sys\n",
    "sys.executable"
   ]
  },
  {
   "cell_type": "code",
   "execution_count": 2,
   "metadata": {
    "ExecuteTime": {
     "end_time": "2020-09-22T14:15:54.166107Z",
     "start_time": "2020-09-22T14:15:53.763793Z"
    }
   },
   "outputs": [],
   "source": [
    "import compare_df"
   ]
  },
  {
   "cell_type": "markdown",
   "metadata": {},
   "source": [
    "## Real-word test-case with different encoding"
   ]
  },
  {
   "cell_type": "code",
   "execution_count": 3,
   "metadata": {
    "ExecuteTime": {
     "end_time": "2020-09-22T14:15:55.306096Z",
     "start_time": "2020-09-22T14:15:55.301390Z"
    }
   },
   "outputs": [],
   "source": [
    "path_1 = \"../dev/birthday_loeb/iloy_normal.csv\"\n",
    "path_2 = \"../dev/birthday_loeb/mike_normal.csv\"\n",
    "params_1 = {'sep': ';', 'encoding': 'UTF-8'}\n",
    "params_2 = {\"sep\": \";\", \"engine\": \"python\"}"
   ]
  },
  {
   "cell_type": "code",
   "execution_count": 4,
   "metadata": {
    "ExecuteTime": {
     "end_time": "2020-09-22T13:39:31.989259Z",
     "start_time": "2020-09-22T13:39:26.696172Z"
    },
    "scrolled": false,
    "tags": []
   },
   "outputs": [
    {
     "output_type": "stream",
     "name": "stdout",
     "text": "- DF loaded, with original shape of (619, 20)\n- DF loaded, with original shape of (618, 20)\n\nFound differences in the columns of the two dataframes.\n- DF 1 has 2 value(s) in columns that could not be found in the other DF and will be removed:\n  - Card Type\n  - Jamo_Faktura_Mahnstufe\n- DF 2 has 2 value(s) in columns that could not be found in the other DF and will be removed:\n  - Jamofak_Mahnstufe\n  - CardType\n\nFound differences in the index of the two dataframes.\n- DF 1 has 2 value(s) in index that could not be found in the other DF and will be removed:\n  - 1272748\n  - 1233319\n- DF 2 has 1 value(s) in index that could not be found in the other DF and will be removed:\n  - 1231905\n\nDataframes successfully compared with shape (617, 17). They are NOT indentical. \n# of differences per column:\n\nFirstname          0\nLastname           0\nTitleName          0\nSalutation         0\nAddressLine1       0\nStreet             1\nPostBoxNumber      0\nPostalCode         0\nCity               0\nCountryAK          0\nDateOfBirth      617\nEmail              0\nLanguage           0\nAlter              0\nRFM_Segment        0\nM_Wert           303\nMahnstufe          5\ndtype: int64\n\nOutput saved to: \nc:\\Users\\r2d4\\OneDrive\\code\\projects\\20-05_compare_dfs\\dev\\birthday_loeb\\compare_df_diff_output_2020-10-04-23-08-40.xlsx\n"
    }
   ],
   "source": [
    "# Test with removing non-matching columns\n",
    "df_diff, df_1, df_2 = compare_df.main(path_1, path_2, params_1, params_2, \"KundenID\")"
   ]
  },
  {
   "cell_type": "code",
   "execution_count": 6,
   "metadata": {
    "ExecuteTime": {
     "end_time": "2020-09-22T13:40:22.831965Z",
     "start_time": "2020-09-22T13:40:22.821975Z"
    }
   },
   "outputs": [
    {
     "output_type": "display_data",
     "data": {
      "text/plain": "(617, 17)"
     },
     "metadata": {}
    },
    {
     "output_type": "display_data",
     "data": {
      "text/plain": "(617, 17)"
     },
     "metadata": {}
    },
    {
     "output_type": "display_data",
     "data": {
      "text/plain": "(617, 17)"
     },
     "metadata": {}
    }
   ],
   "source": [
    "for df in [df_diff, df_1, df_2]:\n",
    "    display(df.shape)"
   ]
  },
  {
   "cell_type": "markdown",
   "metadata": {},
   "source": [
    "---"
   ]
  }
 ],
 "metadata": {
  "hide_input": false,
  "kernelspec": {
   "display_name": "Python 3",
   "language": "python",
   "name": "python3"
  },
  "language_info": {
   "codemirror_mode": {
    "name": "ipython",
    "version": 3
   },
   "file_extension": ".py",
   "mimetype": "text/x-python",
   "name": "python",
   "nbconvert_exporter": "python",
   "pygments_lexer": "ipython3",
   "version": "3.8.3-final"
  }
 },
 "nbformat": 4,
 "nbformat_minor": 4
}